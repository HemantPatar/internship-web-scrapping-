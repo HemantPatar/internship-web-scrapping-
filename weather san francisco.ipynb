{
 "cells": [
  {
   "cell_type": "code",
   "execution_count": 1,
   "metadata": {},
   "outputs": [],
   "source": [
    "from bs4 import BeautifulSoup\n",
    "import requests"
   ]
  },
  {
   "cell_type": "code",
   "execution_count": 2,
   "metadata": {},
   "outputs": [],
   "source": [
    "page =  requests.get(\"https://forecast.weather.gov/MapClick.php?lat=37.777120000000025&lon=-122.41963999999996#.X8qS8GgzbtQ\")"
   ]
  },
  {
   "cell_type": "code",
   "execution_count": 3,
   "metadata": {},
   "outputs": [],
   "source": [
    "soup = BeautifulSoup(page.text,'html.parser')"
   ]
  },
  {
   "cell_type": "code",
   "execution_count": 36,
   "metadata": {},
   "outputs": [
    {
     "name": "stdout",
     "output_type": "stream",
     "text": [
      "period - Today\n",
      "short description - Sunny\n",
      "temp - 64\n",
      "description -  Calm wind becoming northwest around 5 mph in the afternoon\n",
      "===================================================================================\n",
      "period - Saturday\n",
      "short description - Mostly sunny\n",
      "temp - 63\n",
      "description -  West southwest wind 5 to 7 mph\n",
      "===================================================================================\n",
      "period - Sunday\n",
      "short description - Partly sunny\n",
      "temp - 63\n",
      "description -  North wind 5 to 7 mph\n",
      "===================================================================================\n",
      "period - Monday\n",
      "short description - Sunny\n",
      "temp - 69\n",
      "description - \n",
      "===================================================================================\n",
      "period - Tuesday\n",
      "short description - Sunny\n",
      "temp - 66\n",
      "description - \n",
      "===================================================================================\n",
      "period - Wednesday\n",
      "short description - Sunny\n",
      "temp - 65\n",
      "description - \n",
      "===================================================================================\n",
      "period - Thursday\n",
      "short description - Sunny\n",
      "temp - 63\n",
      "description - \n",
      "===================================================================================\n",
      "CSV creation done!!\n"
     ]
    }
   ],
   "source": [
    "import csv\n",
    "row = ['period', 'short description', 'temp', 'description']\n",
    "file_object = open('San_Francisco_local_waether_csv.csv', 'a', encoding='utf-8', newline=\"\")\n",
    "writer = csv.DictWriter(file_object, fieldnames=row)\n",
    "if file_object.tell() == 0:\n",
    "    writer.writeheader()\n",
    "div = soup.find_all(\"div\", {\"class\": \"row row-odd row-forecast\"})\n",
    "for i in div:\n",
    "    period = i.find(\"div\", {\"class\": \"col-sm-2 forecast-label\"}).text\n",
    "    short_description = i.find(\"div\", {\"class\":  \"col-sm-10 forecast-text\"}).text.split(\",\")[0]\n",
    "    temp = i.find(\"div\", {\"class\":  \"col-sm-10 forecast-text\"}).text.split(\",\")[1].split(\".\")[0].strip(' with a high near ')\n",
    "    description = i.find(\"div\", {\"class\":  \"col-sm-10 forecast-text\"}).text.split(\",\")[1].split(\".\")[1]\n",
    "    print('period -', period)\n",
    "    print('short description -', short_description)\n",
    "    print('temp -', temp)\n",
    "    print('description -', description)\n",
    "    print(\"===================================================================================\")\n",
    "    writer.writerow({'period': period, 'short description': short_description, 'temp': temp, 'description': description})\n",
    "file_object.close()\n",
    "print(\"CSV creation done!!\")"
   ]
  }
 ],
 "metadata": {
  "kernelspec": {
   "display_name": "Python 3",
   "language": "python",
   "name": "python3"
  },
  "language_info": {
   "codemirror_mode": {
    "name": "ipython",
    "version": 3
   },
   "file_extension": ".py",
   "mimetype": "text/x-python",
   "name": "python",
   "nbconvert_exporter": "python",
   "pygments_lexer": "ipython3",
   "version": "3.7.6"
  }
 },
 "nbformat": 4,
 "nbformat_minor": 4
}
