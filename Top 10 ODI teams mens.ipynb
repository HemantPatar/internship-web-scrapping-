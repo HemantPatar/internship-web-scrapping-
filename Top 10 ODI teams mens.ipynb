{
 "cells": [
  {
   "cell_type": "code",
   "execution_count": 1,
   "metadata": {},
   "outputs": [],
   "source": [
    "from bs4 import BeautifulSoup\n",
    "import requests"
   ]
  },
  {
   "cell_type": "code",
   "execution_count": 2,
   "metadata": {},
   "outputs": [],
   "source": [
    "page =  requests.get(\"https://www.icc-cricket.com/rankings/mens/team-rankings/odi\")"
   ]
  },
  {
   "cell_type": "code",
   "execution_count": 3,
   "metadata": {},
   "outputs": [],
   "source": [
    "soup = BeautifulSoup(page.text,'html.parser')"
   ]
  },
  {
   "cell_type": "code",
   "execution_count": 48,
   "metadata": {},
   "outputs": [
    {
     "name": "stdout",
     "output_type": "stream",
     "text": [
      "['England', 'India', 'New Zealand', 'Australia', 'South Africa', 'Pakistan', 'Bangladesh', 'Sri Lanka', 'West Indies', 'Afghanistan', 'Ireland', 'Netherlands', 'Oman', 'Zimbabwe', 'Scotland', 'Nepal', 'UAE', 'Namibia', 'United States', 'Papua New Guinea']\n",
      "['44', '52', '32', '39', '31', '35', '34', '39', '43', '28', '24', '5', '12', '27', '16', '9', '15', '9', '14', '14']\n",
      "['5,405', '6,102', '3,716', '4,344', '3,345', '3,590', '2,989', '3,297', '3,285', '1,549', '1,256', '222', '479', '1,021', '419', '161', '259', '152', '185', '0']\n",
      "['123', '117', '116', '111', '108', '103', '88', '85', '76', '55', '52', '44', '40', '38', '26', '18', '17', '17', '13', '0']\n"
     ]
    }
   ],
   "source": [
    "x = soup.find_all(\"tr\", {\"class\": [\"rankings-block__banner\", \"table-body\"]})\n",
    "# for i in x:\n",
    "#     print(i.text)\n",
    "team = [str(i.text).split(\"\\n\")[:][4] for i in x]\n",
    "matches = [str(i.text).split(\"\\n\")[:][7] for i in x]\n",
    "points = [str(i.text).split(\"\\n\")[:][8] for i in x]\n",
    "ratings = [[str(i.text).split(\"\\n\")[:][10].lstrip(\"                            \") for i in x][0]]\n",
    "rating1 = [str(i.text).split(\"\\n\")[:][9] for i in x][1:]\n",
    "ratings.extend(rating1)\n",
    "print(team)    \n",
    "print(matches)    \n",
    "print(points)    \n",
    "print(ratings)    "
   ]
  },
  {
   "cell_type": "code",
   "execution_count": 51,
   "metadata": {},
   "outputs": [
    {
     "name": "stdout",
     "output_type": "stream",
     "text": [
      "CSV creation done!!\n"
     ]
    }
   ],
   "source": [
    "import csv\n",
    "row = ['Teams', 'Matches', 'Points','Ratings']\n",
    "file_object = open('mens_odi_csv.csv', 'a', encoding='utf-8', newline=\"\")\n",
    "writer = csv.DictWriter(file_object, fieldnames=row)\n",
    "if file_object.tell() == 0:\n",
    "    writer.writeheader()\n",
    "for x, i in enumerate(team[:10]):\n",
    "    writer.writerow({'Teams': i, 'Matches': matches[x], 'Points': points[x], 'Ratings': ratings[x]})\n",
    "file_object.close()\n",
    "print(\"CSV creation done!!\")"
   ]
  },
  {
   "cell_type": "code",
   "execution_count": null,
   "metadata": {},
   "outputs": [],
   "source": []
  }
 ],
 "metadata": {
  "kernelspec": {
   "display_name": "Python 3",
   "language": "python",
   "name": "python3"
  },
  "language_info": {
   "codemirror_mode": {
    "name": "ipython",
    "version": 3
   },
   "file_extension": ".py",
   "mimetype": "text/x-python",
   "name": "python",
   "nbconvert_exporter": "python",
   "pygments_lexer": "ipython3",
   "version": "3.7.6"
  }
 },
 "nbformat": 4,
 "nbformat_minor": 4
}
