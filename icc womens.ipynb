{
 "cells": [
  {
   "cell_type": "code",
   "execution_count": 16,
   "metadata": {},
   "outputs": [],
   "source": [
    "from bs4 import BeautifulSoup\n",
    "import requests"
   ]
  },
  {
   "cell_type": "code",
   "execution_count": 17,
   "metadata": {},
   "outputs": [],
   "source": [
    "page =  requests.get(\"https://www.icc-cricket.com/rankings/womens/player-rankings/odi\")"
   ]
  },
  {
   "cell_type": "code",
   "execution_count": 18,
   "metadata": {},
   "outputs": [],
   "source": [
    "soup = BeautifulSoup(page.text,'html.parser')"
   ]
  },
  {
   "cell_type": "code",
   "execution_count": 19,
   "metadata": {
    "scrolled": true
   },
   "outputs": [
    {
     "name": "stdout",
     "output_type": "stream",
     "text": [
      "[['                                    2', 'Stafanie Taylor', 'WI', '746'], ['                                    3', 'Alyssa Healy', 'AUS', '741'], ['                                    4', 'Smriti Mandhana', 'IND', '732'], ['                                    5', 'Amy Satterthwaite', 'NZ', '723'], ['                                    6', 'Tammy Beaumont', 'ENG', '716'], ['                                    7', 'Ellyse Perry', 'AUS', '691'], ['                                    8', 'Lizelle Lee', 'SA', '690'], ['                                    9', 'Laura Wolvaardt', 'SA', '689'], ['                                    10', 'Mithali Raj', 'IND', '687'], ['                                    2', 'Marizanne Kapp', 'SA', '738'], ['                                    3', 'Megan Schutt', 'AUS', '735'], ['                                    4', 'Shabnim Ismail', 'SA', '717'], ['                                    5', 'Jhulan Goswami', 'IND', '691'], ['                                    6', 'Poonam Yadav', 'IND', '679'], ['                                    7', 'Shikha Pandey', 'IND', '675'], ['                                    8', 'Ellyse Perry', 'AUS', '666'], ['                                    9', 'Anya Shrubsole', 'ENG', '645'], ['                                    10', 'Deepti Sharma', 'IND', '639'], ['                                    2', 'Stafanie Taylor', 'WI', '410'], ['                                    3', 'Marizanne Kapp', 'SA', '389'], ['                                    4', 'Deepti Sharma', 'IND', '359'], ['                                    5', 'Dane van Niekerk', 'SA', '335'], ['                                    6', 'Jess Jonassen', 'AUS', '301'], ['                                    7', 'Sophie Devine', 'NZ', '289'], ['                                    8', 'Natalie Sciver', 'ENG', '273'], ['                                    9', 'Shikha Pandey', 'IND', '250'], ['                                    10', 'Katherine Brunt', 'ENG', '232']]\n"
     ]
    }
   ],
   "source": [
    "y = soup.find_all(\"tr\", {\"class\": \"table-body\"})\n",
    "\n",
    "a = [str(i.text).split(\"\\n\") for i in y]\n",
    "for i in a:\n",
    "    while('This player has moved up in the rankings since the previous rankings update' in i) : \n",
    "        i.remove('This player has moved up in the rankings since the previous rankings update') \n",
    "        \n",
    "    while('' in i) :\n",
    "        i.remove('')\n",
    "            \n",
    "    while('        ' in i) :\n",
    "        i.remove('        ')\n",
    "        \n",
    "    while('This player has moved down in the rankings since the previous rankings update' in i) :\n",
    "        i.remove('This player has moved down in the rankings since the previous rankings update')\n",
    "        \n",
    "print(a)\n"
   ]
  },
  {
   "cell_type": "code",
   "execution_count": 20,
   "metadata": {},
   "outputs": [
    {
     "name": "stdout",
     "output_type": "stream",
     "text": [
      "['Meg Lanning']\n",
      "['AUS']\n",
      "['749']\n"
     ]
    }
   ],
   "source": [
    "#Top 10 ODI Batsmen in women\n",
    "x = soup.find_all(\"div\", {\"class\": [\"rankings-block__container\",\"rankings-block__banner--player-info\",\"rankings-block__banner--rating\"]})\n",
    "players = [[str(i.text).strip(\"\\n\").split(\"\\n\\n\\n\") for i in x][1:3][0][0]]\n",
    "team = [[str(i.text).strip(\"\\n\").split(\"\\n\\n\\n\") for i in x][1:3][0][1]]\n",
    "ratings = [str(i.text).strip(\"\\n\").split(\"\\n\\n\\n\") for i in x][1:3][1]\n",
    "print(players)\n",
    "print(team)\n",
    "print(ratings)"
   ]
  },
  {
   "cell_type": "code",
   "execution_count": 21,
   "metadata": {
    "scrolled": true
   },
   "outputs": [
    {
     "name": "stdout",
     "output_type": "stream",
     "text": [
      "['Meg Lanning', 'Stafanie Taylor', 'Alyssa Healy', 'Smriti Mandhana', 'Amy Satterthwaite', 'Tammy Beaumont', 'Ellyse Perry', 'Lizelle Lee', 'Laura Wolvaardt', 'Mithali Raj']\n",
      "['AUS', 'WI', 'AUS', 'IND', 'NZ', 'ENG', 'AUS', 'SA', 'SA', 'IND']\n",
      "['749', '746', '741', '732', '723', '716', '691', '690', '689', '687']\n"
     ]
    }
   ],
   "source": [
    "#Top 10 ODI Batsmen in women\n",
    "players1 = [i[:][1] for i in a][:9]  \n",
    "team1 = [i[:][2] for i in a][:9] \n",
    "ratings1 = [i[:][3] for i in a][:9] \n",
    "\n",
    "players.extend(players1)\n",
    "team.extend(team1)\n",
    "ratings.extend(ratings1)  \n",
    "\n",
    "\n",
    "print(players)\n",
    "print(team)\n",
    "print(ratings)"
   ]
  },
  {
   "cell_type": "code",
   "execution_count": 22,
   "metadata": {},
   "outputs": [
    {
     "name": "stdout",
     "output_type": "stream",
     "text": [
      "['Ellyse Perry']\n",
      "['AUS']\n",
      "['460']\n"
     ]
    }
   ],
   "source": [
    "#Top 10 women’s ODI all-rounder\n",
    "x = soup.find_all(\"div\", {\"class\": [\"rankings-block__container\",\"rankings-block__banner--player-info\",\"rankings-block__banner--rating\"]})\n",
    "players4 = [[str(i.text).strip(\"\\n\").split(\"\\n\\n\\n\") for i in x][7:9][0][0]]\n",
    "team4 = [[str(i.text).strip(\"\\n\").split(\"\\n\\n\\n\") for i in x][7:9][0][1]]\n",
    "ratings4 = [str(i.text).strip(\"\\n\").split(\"\\n\\n\\n\") for i in x][7:9][1]\n",
    "print(players4)\n",
    "print(team4)\n",
    "print(ratings4)"
   ]
  },
  {
   "cell_type": "code",
   "execution_count": 23,
   "metadata": {},
   "outputs": [
    {
     "name": "stdout",
     "output_type": "stream",
     "text": [
      "['Ellyse Perry', 'Stafanie Taylor', 'Marizanne Kapp', 'Deepti Sharma', 'Dane van Niekerk', 'Jess Jonassen', 'Sophie Devine', 'Natalie Sciver', 'Shikha Pandey', 'Katherine Brunt']\n",
      "['AUS', 'WI', 'SA', 'IND', 'SA', 'AUS', 'NZ', 'ENG', 'IND', 'ENG']\n",
      "['460', '410', '389', '359', '335', '301', '289', '273', '250', '232']\n"
     ]
    }
   ],
   "source": [
    "#Top 10 women’s ODI all-rounder\n",
    "players5 = [i[:][1] for i in a][18:27]  \n",
    "team5 = [i[:][2] for i in a][18:27]  \n",
    "ratings5 = [i[:][3] for i in a][18:27] \n",
    "\n",
    "players4.extend(players5)\n",
    "team4.extend(team5)\n",
    "ratings4.extend(ratings5)  \n",
    "\n",
    "\n",
    "print(players4)\n",
    "print(team4)\n",
    "print(ratings4)"
   ]
  },
  {
   "cell_type": "code",
   "execution_count": 24,
   "metadata": {},
   "outputs": [
    {
     "name": "stdout",
     "output_type": "stream",
     "text": [
      "CSV creation done!!\n"
     ]
    }
   ],
   "source": [
    "import csv\n",
    "row = ['Players', 'Teams', 'Ratings']\n",
    "file_object = open('womens_odi_top_10_Batsmen_csv.csv', 'a', encoding='utf-8', newline=\"\")\n",
    "writer = csv.DictWriter(file_object, fieldnames=row)\n",
    "if file_object.tell() == 0:\n",
    "    writer.writeheader()\n",
    "for x, i in enumerate(players):\n",
    "    writer.writerow({'Players': i, 'Teams': team[x], 'Ratings': ratings[x]})\n",
    "file_object.close()\n",
    "print(\"CSV creation done!!\")"
   ]
  },
  {
   "cell_type": "code",
   "execution_count": 25,
   "metadata": {},
   "outputs": [
    {
     "name": "stdout",
     "output_type": "stream",
     "text": [
      "CSV creation done!!\n"
     ]
    }
   ],
   "source": [
    "import csv\n",
    "row = ['Players', 'Teams', 'Ratings']\n",
    "file_object = open('womens_odi_top_10_all_rounder_csv.csv', 'a', encoding='utf-8', newline=\"\")\n",
    "writer = csv.DictWriter(file_object, fieldnames=row)\n",
    "if file_object.tell() == 0:\n",
    "    writer.writeheader()\n",
    "for x, i in enumerate(players4):\n",
    "    writer.writerow({'Players': i, 'Teams': team4[x], 'Ratings': ratings4[x]})\n",
    "file_object.close()\n",
    "print(\"CSV creation done!!\")"
   ]
  },
  {
   "cell_type": "code",
   "execution_count": null,
   "metadata": {},
   "outputs": [],
   "source": []
  },
  {
   "cell_type": "code",
   "execution_count": null,
   "metadata": {},
   "outputs": [],
   "source": []
  }
 ],
 "metadata": {
  "kernelspec": {
   "display_name": "Python 3",
   "language": "python",
   "name": "python3"
  },
  "language_info": {
   "codemirror_mode": {
    "name": "ipython",
    "version": 3
   },
   "file_extension": ".py",
   "mimetype": "text/x-python",
   "name": "python",
   "nbconvert_exporter": "python",
   "pygments_lexer": "ipython3",
   "version": "3.7.6"
  }
 },
 "nbformat": 4,
 "nbformat_minor": 4
}
