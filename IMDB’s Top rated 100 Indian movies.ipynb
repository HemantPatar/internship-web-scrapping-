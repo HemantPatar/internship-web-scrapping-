{
 "cells": [
  {
   "cell_type": "code",
   "execution_count": 1,
   "metadata": {},
   "outputs": [],
   "source": [
    "from bs4 import BeautifulSoup\n",
    "import requests"
   ]
  },
  {
   "cell_type": "code",
   "execution_count": 2,
   "metadata": {},
   "outputs": [],
   "source": [
    "page = requests.get(\"https://www.imdb.com/india/top-rated-indian-movies/\")"
   ]
  },
  {
   "cell_type": "code",
   "execution_count": 3,
   "metadata": {},
   "outputs": [],
   "source": [
    "soup=BeautifulSoup(page.text,'html.parser')"
   ]
  },
  {
   "cell_type": "code",
   "execution_count": 4,
   "metadata": {
    "scrolled": true
   },
   "outputs": [
    {
     "name": "stdout",
     "output_type": "stream",
     "text": [
      "[8.5, 8.5, 8.5, 8.5, 8.5, 8.4, 8.4, 8.4, 8.4, 8.4, 8.4, 8.4, 8.4, 8.4, 8.4, 8.3, 8.3, 8.3, 8.3, 8.3, 8.3, 8.3, 8.3, 8.3, 8.3, 8.3, 8.3, 8.2, 8.2, 8.2, 8.2, 8.2, 8.2, 8.2, 8.2, 8.2, 8.2, 8.2, 8.2, 8.2, 8.2, 8.2, 8.2, 8.2, 8.2, 8.2, 8.2, 8.1, 8.1, 8.1, 8.1, 8.1, 8.1, 8.1, 8.1, 8.1, 8.1, 8.1, 8.1, 8.1, 8.1, 8.1, 8.1, 8.1, 8.1, 8.1, 8.1, 8.1, 8.1, 8.1, 8.1, 8.1, 8.1, 8.1, 8.1, 8.1, 8.1, 8.1, 8.1, 8.1, 8.1, 8.1, 8.1, 8.1, 8.1, 8.1, 8.1, 8.1, 8.1, 8.1, 8.1, 8.1, 8.0, 8.0, 8.0, 8.0, 8.0, 8.0, 8.0, 8.0, 8.0, 8.0, 8.0, 8.0, 8.0, 8.0, 8.0, 8.0, 8.0, 8.0, 8.0, 8.0, 8.0, 8.0, 8.0, 7.9, 7.9, 7.9, 7.9, 7.9, 7.9, 7.9, 7.9, 7.9, 7.9, 7.9, 7.9, 7.9, 7.9, 7.9, 7.9, 7.9, 7.9, 7.9, 7.9, 7.9, 7.9, 7.9, 7.8, 7.8, 7.8, 7.8, 7.8, 7.8, 7.8, 7.8, 7.8, 7.8, 7.8, 7.8, 7.8, 7.8, 7.8, 7.8, 7.8, 7.8, 7.8, 7.8, 7.8, 7.8, 7.8, 7.7, 7.7, 7.7, 7.7, 7.7, 7.7, 7.7, 7.7, 7.7, 7.7, 7.7, 7.7, 7.7, 7.7, 7.7, 7.7, 7.7, 7.7, 7.7, 7.7, 7.7, 7.7, 7.6, 7.6, 7.6, 7.6, 7.6, 7.6, 7.6, 7.6, 7.6, 7.6, 7.6, 7.6, 7.6, 7.6, 7.6, 7.6, 7.6, 7.6, 7.6, 7.6, 7.6, 7.6, 7.6, 7.6, 7.6, 7.6, 7.6, 7.6, 7.6, 7.5, 7.5, 7.5, 7.5, 7.5, 7.5, 7.5, 7.5, 7.5, 7.5, 7.5, 7.5, 7.5, 7.5, 7.5, 7.5, 7.5, 7.5, 7.5, 7.5, 7.5, 7.5, 7.5, 7.5, 7.5, 7.5, 7.5, 7.5, 7.5, 7.5, 7.5, 7.4, 7.4, 7.4, 7.4, 7.4, 7.4, 7.4]\n"
     ]
    }
   ],
   "source": [
    "y = soup.find_all(\"td\", {\"class\": \"ratingColumn imdbRating\"})\n",
    "rating = [float(i.text) for i in y]\n",
    "print(rating)"
   ]
  },
  {
   "cell_type": "code",
   "execution_count": 7,
   "metadata": {},
   "outputs": [
    {
     "name": "stdout",
     "output_type": "stream",
     "text": [
      "[1955, 2018, 1979, 1987, 2003, 1959, 2016, 1989, 2004, 2018, 1992, 1993, 2018, 2009, 2019, 2007, 2017, 1971, 2016, 2015, 1991, 2020, 1956, 2019, 1983, 1957, 1965, 2002, 1975, 2019, 2019, 2015, 2018, 2016, 2013, 2006, 2018, 2019, 2018, 2018, 2019, 2018, 2014, 2016, 2015, 1998, 2012, 2014, 2013, 1999, 2005, 2012, 2015, 2014, 2015, 2015, 2015, 2013, 2012, 1975, 2004, 2000, 2005, 2007, 1992, 2006, 1960, 1964, 2016, 2013, 2012, 2010, 2019, 2011, 2008, 2001, 2003, 1994, 1999, 2012, 1992, 2015, 2001, 2000, 2016, 2012, 2017, 2014, 2018, 1995, 2005, 2016, 2012, 2002, 2006, 2003, 2013, 1995, 2006, 2019, 2006, 1975, 1996, 2019, 2017, 1995, 2019, 2009, 1968, 2014, 2016, 1957, 2005, 2013, 1999, 2013, 2009, 2018, 2018, 1958, 2015, 2012, 1999, 2017, 2002, 2014, 2020, 2013, 2017, 2008, 2010, 2015, 2018, 2012, 2010, 2003, 2007, 2013, 2013, 2009, 2018, 2015, 1997, 2006, 2004, 2019, 2016, 2006, 2015, 2000, 2012, 2003, 2015, 2003, 2013, 2004, 2007, 2014, 2017, 2017, 2019, 2018, 2001, 1987, 2012, 2019, 2016, 2006, 1978, 2011, 2008, 2015, 2008, 2004, 2001, 2007, 2015, 2004, 2008, 2014, 2018, 2016, 2008, 2013, 2016, 2012, 2011, 2008, 1994, 1993, 2014, 2017, 2016, 1998, 2013, 1990, 2011, 2005, 2016, 2007, 2014, 2019, 2007, 2012, 2009, 2019, 2015, 1993, 2015, 2009, 2016, 2015, 2018, 1998, 2014, 2020, 2014, 2016, 2011, 2018, 2020, 2002, 2008, 2018, 2004, 2013, 1998, 2016, 2009, 2003, 2018, 2018, 2016, 2017, 2013, 2001, 2017, 2018, 2005, 2010, 1988, 2004, 2015, 2007, 2019, 2018, 1994, 2018, 2011, 1995]\n"
     ]
    }
   ],
   "source": [
    "x = soup.find_all(\"span\", {\"class\": \"secondaryInfo\"})\n",
    "year = [int(str(i.text).replace(\"(\", \"\").replace(\")\", \"\")) for i in x]\n",
    "print(year)"
   ]
  },
  {
   "cell_type": "code",
   "execution_count": 37,
   "metadata": {},
   "outputs": [
    {
     "name": "stdout",
     "output_type": "stream",
     "text": [
      "['Pather Panchali', 'Ratsasan', 'Gol Maal', 'Nayakan', 'Anbe Sivam', 'Apur Sansar', 'Natsamrat', 'Kireedam', 'Black Friday', 'Pariyerum Perumal', 'Thevar Magan', 'Manichitrathazhu', '96', '3 Idiots', 'Kumbalangi Nights', 'Taare Zameen Par', 'Vikram Vedha', 'Anand', 'Dangal', 'Visaaranai', 'Thalapathi', 'Soorarai Pottru', 'Aparajito', 'Asuran', 'Jaane Bhi Do Yaaro', 'Pyaasa', 'Guide', 'Kannathil Muthamittal', 'Chupke Chupke', 'Jersey', 'Kaithi', 'Thani Oruvan', 'Vada Chennai', 'Aruvi', 'Drishyam', 'Khosla Ka Ghosla!', 'Peranbu', 'Super Deluxe', 'Andhadhun', 'Tumbbad', 'Agent Sai Srinivasa Athreya', 'Mahanati', 'Kaakkaa Muttai', 'Dhuruvangal Pathinaaru', 'Premam', 'Satya', 'Shahid', 'Bangalore Days', 'Soodhu Kavvum', 'Mudhalvan', 'Anniyan', 'Gangs of Wasseypur', 'Papanasam', 'Jigarthanda', 'Nil Battey Sannata', 'Talvar', 'Drishyam', 'Bhaag Milkha Bhaag', 'Paan Singh Tomar', 'Sholay', 'Swades: We, the People', 'Hera Pheri', 'Black', 'Chak De! India', 'Jo Jeeta Wohi Sikandar', 'Rang De Basanti', 'Mughal-E-Azam', 'Charulata', 'Sairat', 'Queen', 'Ustad Hotel', 'Udaan', 'Article 15', 'Zindagi Na Milegi Dobara', 'A Wednesday', 'Dil Chahta Hai', 'Munna Bhai M.B.B.S.', 'Andaz Apna Apna', 'Sarfarosh', 'OMG: Oh My God!', 'Roja', 'Masaan', 'Lagaan: Once Upon a Time in India', 'Alai Payuthey', 'Maheshinte Prathikaaram', 'Kahaani', 'Theeran adhigaaram ondru', 'PK', 'Uri: The Surgical Strike', 'Baasha', 'Iqbal', 'Pink', 'Barfi!', 'The Legend of Bhagat Singh', 'Bommarillu', 'Maqbool', 'Lucia', 'Bombay', 'Omkara', 'Section 375', 'Lage Raho Munna Bhai', 'Deewaar', 'Indian', 'Chhichhore', 'Baahubali 2: The Conclusion', 'Dilwale Dulhania Le Jayenge', 'Gully Boy', 'Gulaal', 'Padosan', 'Haider', 'Pelli Choopulu', 'Mother India', 'Athadu', 'Ugly', 'Padayappa', 'Special Chabbis', 'Dev.D', 'Rangasthalam', 'Badhaai ho', 'Jalsaghar', 'Bajrangi Bhaijaan', 'Ship of Theseus', 'Vaastav: The Reality', 'Arjun Reddy', 'Company', 'Ulidavaru Kandanthe', 'Dil Bechara', 'Ankhon Dekhi', 'Mukkabaaz', 'Vaaranam Aayiram', 'Vedam', 'Manjhi: The Mountain Man', 'K.G.F: Chapter 1', 'Pizza', 'My Name Is Khan', 'Kal Ho Naa Ho', 'Jab We Met', 'Mumbai Police', 'Memories', 'Unnaipol Oruvan', 'Padman', 'Bãhubali: The Beginning', 'Border', 'Dor', 'Lakshya', 'Super 30', 'Airlift', 'Vettaiyaadu Vilaiyaadu', 'Baby', 'Hey Ram', 'English Vinglish', 'Gangaajal', 'Charlie', 'Okkadu', 'The Lunchbox', 'Ab Tak Chhappan', 'Johnny Gaddaar', 'Manam', 'Hindi Medium', 'Secret Superstar', 'Badla', 'Raazi', 'Nayak: The Real Hero', 'Mr. India', 'Vicky Donor', 'Sonchiriya', 'Udta Punjab', 'Pokiri', 'Don', 'Stanley Ka Dabba', 'Rock On!!', 'RangiTaranga', 'Dasvidaniya', 'Veer-Zaara', 'Samsara', 'Guru', 'Aligarh', 'Arya', 'Oye Lucky! Lucky Oye!', 'Velaiilla Pattadhari', 'Goodachari', 'M.S. Dhoni: The Untold Story', 'Mumbai Meri Jaan', 'Kai po che!', 'Kapoor & Sons', 'Eega', 'Rockstar', 'Aamir', 'Kabhi Haan Kabhi Naa', 'Darr', 'Ugramm', 'Newton', '24', 'Earth', 'Madras Cafe', 'Agneepath', 'Pyaar Ka Punchnama', 'Sarkar', 'Neerja', 'Bheja Fry', 'Highway', 'Nerkonda Paarvai', 'Manorama: Six Feet Under', 'Thuppakki', 'Magadheera', 'The Tashkent Files', 'Detective Byomkesh Bakshy!', 'Baazigar', 'Tanu Weds Manu Returns', 'Wake Up Sid', 'Saala Khadoos', 'Piku', 'Sanju', 'Kuch Kuch Hota Hai', 'Kaththi', 'Ludo', '1 - Nenokkadine', 'Dhruva', 'Delhi Belly', 'Stree', 'Lootcase', 'Devdas', 'Jodhaa Akbar', 'Parmanu: The Story of Pokhran', 'Ek Hasina Thi', 'Raanjhanaa', 'Dil Se..', 'Trapped', 'Rocket Singh: Salesman of the Year', 'Hungama', 'Bhavesh Joshi Superhero', 'Geetha Govindam', 'Madaari', 'The Ghazi Attack', 'Jolly LLB', 'Rehnaa Hai Terre Dil Mein', 'Bareilly Ki Barfi', 'Karwaan', 'Ghajini', 'Phas Gaye Re Obama', 'Qayamat Se Qayamat Tak', 'Ghilli', 'Dum Laga Ke Haisha', 'Sivaji', 'The Sky Is Pink', 'Hichki', 'Hum Aapke Hain Koun...!', 'October', 'Mankatha', 'Rangeela']\n"
     ]
    }
   ],
   "source": [
    "w = soup.find_all(\"td\", {\"class\": \"titleColumn\"})\n",
    "title = [str(i.text).split(\"\\n\")[2].lstrip(\"   \") for i in w]\n",
    "print(title)"
   ]
  },
  {
   "cell_type": "code",
   "execution_count": 39,
   "metadata": {},
   "outputs": [
    {
     "name": "stdout",
     "output_type": "stream",
     "text": [
      "1 Pather Panchali 1955 8.5\n",
      "2 Ratsasan 2018 8.5\n",
      "3 Gol Maal 1979 8.5\n",
      "4 Nayakan 1987 8.5\n",
      "5 Anbe Sivam 2003 8.5\n",
      "6 Apur Sansar 1959 8.4\n",
      "7 Natsamrat 2016 8.4\n",
      "8 Kireedam 1989 8.4\n",
      "9 Black Friday 2004 8.4\n",
      "10 Pariyerum Perumal 2018 8.4\n",
      "11 Thevar Magan 1992 8.4\n",
      "12 Manichitrathazhu 1993 8.4\n",
      "13 96 2018 8.4\n",
      "14 3 Idiots 2009 8.4\n",
      "15 Kumbalangi Nights 2019 8.4\n",
      "16 Taare Zameen Par 2007 8.3\n",
      "17 Vikram Vedha 2017 8.3\n",
      "18 Anand 1971 8.3\n",
      "19 Dangal 2016 8.3\n",
      "20 Visaaranai 2015 8.3\n",
      "21 Thalapathi 1991 8.3\n",
      "22 Soorarai Pottru 2020 8.3\n",
      "23 Aparajito 1956 8.3\n",
      "24 Asuran 2019 8.3\n",
      "25 Jaane Bhi Do Yaaro 1983 8.3\n",
      "26 Pyaasa 1957 8.3\n",
      "27 Guide 1965 8.3\n",
      "28 Kannathil Muthamittal 2002 8.2\n",
      "29 Chupke Chupke 1975 8.2\n",
      "30 Jersey 2019 8.2\n",
      "31 Kaithi 2019 8.2\n",
      "32 Thani Oruvan 2015 8.2\n",
      "33 Vada Chennai 2018 8.2\n",
      "34 Aruvi 2016 8.2\n",
      "35 Drishyam 2013 8.2\n",
      "36 Khosla Ka Ghosla! 2006 8.2\n",
      "37 Peranbu 2018 8.2\n",
      "38 Super Deluxe 2019 8.2\n",
      "39 Andhadhun 2018 8.2\n",
      "40 Tumbbad 2018 8.2\n",
      "41 Agent Sai Srinivasa Athreya 2019 8.2\n",
      "42 Mahanati 2018 8.2\n",
      "43 Kaakkaa Muttai 2014 8.2\n",
      "44 Dhuruvangal Pathinaaru 2016 8.2\n",
      "45 Premam 2015 8.2\n",
      "46 Satya 1998 8.2\n",
      "47 Shahid 2012 8.2\n",
      "48 Bangalore Days 2014 8.1\n",
      "49 Soodhu Kavvum 2013 8.1\n",
      "50 Mudhalvan 1999 8.1\n",
      "51 Anniyan 2005 8.1\n",
      "52 Gangs of Wasseypur 2012 8.1\n",
      "53 Papanasam 2015 8.1\n",
      "54 Jigarthanda 2014 8.1\n",
      "55 Nil Battey Sannata 2015 8.1\n",
      "56 Talvar 2015 8.1\n",
      "57 Drishyam 2015 8.1\n",
      "58 Bhaag Milkha Bhaag 2013 8.1\n",
      "59 Paan Singh Tomar 2012 8.1\n",
      "60 Sholay 1975 8.1\n",
      "61 Swades: We, the People 2004 8.1\n",
      "62 Hera Pheri 2000 8.1\n",
      "63 Black 2005 8.1\n",
      "64 Chak De! India 2007 8.1\n",
      "65 Jo Jeeta Wohi Sikandar 1992 8.1\n",
      "66 Rang De Basanti 2006 8.1\n",
      "67 Mughal-E-Azam 1960 8.1\n",
      "68 Charulata 1964 8.1\n",
      "69 Sairat 2016 8.1\n",
      "70 Queen 2013 8.1\n",
      "71 Ustad Hotel 2012 8.1\n",
      "72 Udaan 2010 8.1\n",
      "73 Article 15 2019 8.1\n",
      "74 Zindagi Na Milegi Dobara 2011 8.1\n",
      "75 A Wednesday 2008 8.1\n",
      "76 Dil Chahta Hai 2001 8.1\n",
      "77 Munna Bhai M.B.B.S. 2003 8.1\n",
      "78 Andaz Apna Apna 1994 8.1\n",
      "79 Sarfarosh 1999 8.1\n",
      "80 OMG: Oh My God! 2012 8.1\n",
      "81 Roja 1992 8.1\n",
      "82 Masaan 2015 8.1\n",
      "83 Lagaan: Once Upon a Time in India 2001 8.1\n",
      "84 Alai Payuthey 2000 8.1\n",
      "85 Maheshinte Prathikaaram 2016 8.1\n",
      "86 Kahaani 2012 8.1\n",
      "87 Theeran adhigaaram ondru 2017 8.1\n",
      "88 PK 2014 8.1\n",
      "89 Uri: The Surgical Strike 2018 8.1\n",
      "90 Baasha 1995 8.1\n",
      "91 Iqbal 2005 8.1\n",
      "92 Pink 2016 8.1\n",
      "93 Barfi! 2012 8.0\n",
      "94 The Legend of Bhagat Singh 2002 8.0\n",
      "95 Bommarillu 2006 8.0\n",
      "96 Maqbool 2003 8.0\n",
      "97 Lucia 2013 8.0\n",
      "98 Bombay 1995 8.0\n",
      "99 Omkara 2006 8.0\n",
      "100 Section 375 2019 8.0\n",
      "CSV creation done!!\n"
     ]
    }
   ],
   "source": [
    "import csv\n",
    "row = ['Movie(s)', 'Relaese Date', 'Rating']\n",
    "file_object = open('indian_movies_csv.csv', 'a', encoding='utf-8', newline=\"\")\n",
    "writer = csv.DictWriter(file_object, fieldnames=row)\n",
    "if file_object.tell() == 0:\n",
    "    writer.writeheader()\n",
    "for x, i in enumerate(title):\n",
    "    if x == 100: break\n",
    "    else: print(x+1, i, year[x], rating[x])\n",
    "    writer.writerow({'Movie(s)': i, 'Relaese Date': year[x], 'Rating': rating[x]})\n",
    "file_object.close()\n",
    "print(\"CSV creation done!!\")"
   ]
  },
  {
   "cell_type": "code",
   "execution_count": null,
   "metadata": {},
   "outputs": [],
   "source": []
  }
 ],
 "metadata": {
  "kernelspec": {
   "display_name": "Python 3",
   "language": "python",
   "name": "python3"
  },
  "language_info": {
   "codemirror_mode": {
    "name": "ipython",
    "version": 3
   },
   "file_extension": ".py",
   "mimetype": "text/x-python",
   "name": "python",
   "nbconvert_exporter": "python",
   "pygments_lexer": "ipython3",
   "version": "3.7.6"
  }
 },
 "nbformat": 4,
 "nbformat_minor": 4
}
