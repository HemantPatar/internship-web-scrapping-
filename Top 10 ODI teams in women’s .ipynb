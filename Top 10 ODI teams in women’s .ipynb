{
 "cells": [
  {
   "cell_type": "code",
   "execution_count": 1,
   "metadata": {},
   "outputs": [],
   "source": [
    "from bs4 import BeautifulSoup\n",
    "import requests"
   ]
  },
  {
   "cell_type": "code",
   "execution_count": 2,
   "metadata": {},
   "outputs": [],
   "source": [
    "page =  requests.get(\"https://www.icc-cricket.com/rankings/womens/team-rankings/odi\")"
   ]
  },
  {
   "cell_type": "code",
   "execution_count": 3,
   "metadata": {},
   "outputs": [],
   "source": [
    "soup = BeautifulSoup(page.text,'html.parser')"
   ]
  },
  {
   "cell_type": "code",
   "execution_count": 4,
   "metadata": {},
   "outputs": [
    {
     "name": "stdout",
     "output_type": "stream",
     "text": [
      "['Australia', 'India', 'England', 'South Africa', 'New Zealand', 'West Indies', 'Pakistan', 'Bangladesh', 'Sri Lanka', 'Ireland']\n",
      "['15', '15', '14', '16', '15', '12', '12', '5', '11', '2']\n",
      "['2,436', '1,812', '1,670', '1,713', '1,384', '1,025', '927', '306', '519', '25']\n",
      "['162', '121', '119', '107', '92', '85', '77', '61', '47', '13']\n"
     ]
    }
   ],
   "source": [
    "x = soup.find_all(\"tr\", {\"class\": [\"rankings-block__banner\", \"table-body\"]})\n",
    "# for i in x:\n",
    "#     print(i.text)\n",
    "team = [str(i.text).split(\"\\n\")[:][4] for i in x]\n",
    "matches = [str(i.text).split(\"\\n\")[:][7] for i in x]\n",
    "points = [str(i.text).split(\"\\n\")[:][8] for i in x]\n",
    "ratings = [[str(i.text).split(\"\\n\")[:][10].lstrip(\"                            \") for i in x][0]]\n",
    "rating1 = [str(i.text).split(\"\\n\")[:][9] for i in x][1:]\n",
    "ratings.extend(rating1)\n",
    "print(team)    \n",
    "print(matches)    \n",
    "print(points)    \n",
    "print(ratings)    "
   ]
  },
  {
   "cell_type": "code",
   "execution_count": 5,
   "metadata": {},
   "outputs": [
    {
     "name": "stdout",
     "output_type": "stream",
     "text": [
      "CSV creation done!!\n"
     ]
    }
   ],
   "source": [
    "import csv\n",
    "row = ['Teams', 'Matches', 'Points','Ratings']\n",
    "file_object = open('womens_odi_csv.csv', 'a', encoding='utf-8', newline=\"\")\n",
    "writer = csv.DictWriter(file_object, fieldnames=row)\n",
    "if file_object.tell() == 0:\n",
    "    writer.writeheader()\n",
    "for x, i in enumerate(team[:10]):\n",
    "    writer.writerow({'Teams': i, 'Matches': matches[x], 'Points': points[x], 'Ratings': ratings[x]})\n",
    "file_object.close()\n",
    "print(\"CSV creation done!!\")"
   ]
  },
  {
   "cell_type": "code",
   "execution_count": null,
   "metadata": {},
   "outputs": [],
   "source": []
  },
  {
   "cell_type": "code",
   "execution_count": null,
   "metadata": {},
   "outputs": [],
   "source": []
  }
 ],
 "metadata": {
  "kernelspec": {
   "display_name": "Python 3",
   "language": "python",
   "name": "python3"
  },
  "language_info": {
   "codemirror_mode": {
    "name": "ipython",
    "version": 3
   },
   "file_extension": ".py",
   "mimetype": "text/x-python",
   "name": "python",
   "nbconvert_exporter": "python",
   "pygments_lexer": "ipython3",
   "version": "3.7.6"
  }
 },
 "nbformat": 4,
 "nbformat_minor": 4
}
