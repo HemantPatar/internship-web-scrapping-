{
 "cells": [
  {
   "cell_type": "code",
   "execution_count": 6,
   "metadata": {
    "scrolled": true
   },
   "outputs": [
    {
     "name": "stdout",
     "output_type": "stream",
     "text": [
      "====================================Page - 1=====================================\n",
      "====================================Page - 2=====================================\n",
      "====================================Page - 3=====================================\n",
      "====================================Page - 4=====================================\n",
      "====================================Page - 5=====================================\n",
      "CSV creation done!!\n"
     ]
    }
   ],
   "source": [
    "import pandas as pd, selenium, time\n",
    "from selenium import webdriver\n",
    "from selenium.webdriver.chrome.options import Options\n",
    "\n",
    "chrome_options = Options()\n",
    "chrome_options.add_argument(\"--headless\")\n",
    "driver = webdriver.Chrome(executable_path=\"D:\\chromedriver.exe\", options=chrome_options)\n",
    "url = 'https://www.monsterindia.com/srp/results?start={}&sort=1&limit=25&query=software%20developer&searchId=ef95cc52-bd14-4d5d-a33d-b009da7c610e'\n",
    "jobs=[]\n",
    "jobs_t = []\n",
    "company_n =[]\n",
    "location_l =[]\n",
    "experiance_l = []\n",
    "duration_l = []\n",
    "    \n",
    "for j in range(5):\n",
    "    driver.get(url.format(25 * j))\n",
    "    time.sleep(3)\n",
    "    x = driver.find_elements_by_xpath(\"//div[@class='job-tittle']\")\n",
    "    job_titles = [str(i.text).split(\"\\n\")[:][0] for i in x]\n",
    "    company_names = [str(i.text).split(\"\\n\")[:][1] for i in x]\n",
    "    location_list = [str(i.text).split(\"\\n\")[:][2] for i in x]\n",
    "    experiance_list = [str(i.text).split(\"\\n\")[:][3] for i in x]\n",
    "    \n",
    "    t = driver.find_elements_by_xpath(\"//div[@class='card-footer apply-footer no-bdr']\")\n",
    "    duration_list=[str(i.text).rstrip(\"\\nAPPLY\").split(\" |\")[:][0] for i in t]\n",
    "    \n",
    "    print(\"====================================Page - {}=====================================\".format(j+1))\n",
    "#     print(job_titles, len(job_titles))\n",
    "#     print(company_names, len(company_names))\n",
    "#     print(location_list, len(location_list))\n",
    "#     print(experiance_list, len(experiance_list))\n",
    "#     print(duration_list, len(duration_list))\n",
    "\n",
    "    \n",
    "    jobs_t.extend(job_titles)\n",
    "    company_n.extend(company_names)\n",
    "    location_l.extend(location_list)\n",
    "    experiance_l.extend(experiance_list)\n",
    "    duration_l.extend(duration_list)\n",
    "        \n",
    "#     if j == 0: break\n",
    "driver.quit()\n",
    "    \n",
    "jobs = pd.DataFrame({})\n",
    "jobs['Title']=jobs_t\n",
    "jobs['Company']=company_n\n",
    "jobs['Location']=location_l\n",
    "jobs['Experiance']=experiance_l\n",
    "jobs['Post duration']=duration_l\n",
    "# jobs\n",
    "\n",
    "import csv\n",
    "row = ['Title', 'Company', 'Location','Experiance','Post duration']\n",
    "file_object = open('monster_sd_csv.csv', 'a', encoding='utf-8', newline=\"\")\n",
    "writer = csv.DictWriter(file_object, fieldnames=row)\n",
    "if file_object.tell() == 0:\n",
    "    writer.writeheader()\n",
    "for g, h in enumerate(jobs_t):\n",
    "    writer.writerow({'Title': h, 'Company': company_n[g], 'Location': location_l[g], 'Experiance': experiance_l[g], 'Post duration': duration_l[g]})\n",
    "file_object.close()\n",
    "print(\"CSV creation done!!\")"
   ]
  },
  {
   "cell_type": "code",
   "execution_count": null,
   "metadata": {},
   "outputs": [],
   "source": []
  }
 ],
 "metadata": {
  "kernelspec": {
   "display_name": "Python 3",
   "language": "python",
   "name": "python3"
  },
  "language_info": {
   "codemirror_mode": {
    "name": "ipython",
    "version": 3
   },
   "file_extension": ".py",
   "mimetype": "text/x-python",
   "name": "python",
   "nbconvert_exporter": "python",
   "pygments_lexer": "ipython3",
   "version": "3.7.6"
  }
 },
 "nbformat": 4,
 "nbformat_minor": 4
}
