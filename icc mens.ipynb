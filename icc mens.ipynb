{
 "cells": [
  {
   "cell_type": "code",
   "execution_count": 86,
   "metadata": {},
   "outputs": [],
   "source": [
    "from bs4 import BeautifulSoup\n",
    "import requests"
   ]
  },
  {
   "cell_type": "code",
   "execution_count": 87,
   "metadata": {},
   "outputs": [],
   "source": [
    "page =  requests.get(\"https://www.icc-cricket.com/rankings/mens/player-rankings/odi\")"
   ]
  },
  {
   "cell_type": "code",
   "execution_count": 88,
   "metadata": {},
   "outputs": [],
   "source": [
    "soup = BeautifulSoup(page.text,'html.parser')"
   ]
  },
  {
   "cell_type": "code",
   "execution_count": 89,
   "metadata": {
    "scrolled": true
   },
   "outputs": [
    {
     "name": "stdout",
     "output_type": "stream",
     "text": [
      "[['                                    2', 'Rohit Sharma', 'IND', '855'], ['                                    3', 'Babar Azam', 'PAK', '837'], ['                                    4', 'Ross Taylor', 'NZ', '818'], ['                                    5', 'Francois du Plessis', 'SA', '790'], ['                                    6', 'Kane Williamson', 'NZ', '765'], ['                                    7', 'Aaron Finch', 'AUS', '762'], ['                                    8', 'David Warner', 'AUS', '759'], ['                                    9', 'Quinton de Kock', 'SA', '755'], ['                                    10', 'Jonny Bairstow', 'ENG', '754'], ['                                    2', 'Jasprit Bumrah', 'IND', '719'], ['                                    3', 'Mujeeb Ur Rahman', 'AFG', '701'], ['                                    4', 'Chris Woakes', 'ENG', '675'], ['                                    5', 'Kagiso Rabada', 'SA', '665'], ['                                    6', 'Pat Cummins', 'AUS', '659'], ['                                    7', 'Josh Hazlewood', 'AUS', '654'], ['                                    8', 'Mohammad Amir', 'PAK', '647'], ['                                    9', 'Matt Henry', 'NZ', '641'], ['                                    10', 'Jofra Archer', 'ENG', '637'], ['                                    2', 'Mohammad Nabi', 'AFG', '301'], ['                                    3', 'Chris Woakes', 'ENG', '281'], ['                                    4', 'Ben Stokes', 'ENG', '276'], ['                                    5', 'Imad Wasim', 'PAK', '271'], ['                                    6', 'Colin de Grandhomme', 'NZ', '265'], ['                                    7', 'Rashid Khan', 'AFG', '253'], ['                                    8', 'Mitchell Santner', 'NZ', '251'], ['                                    9', 'Ravindra Jadeja', 'IND', '246'], ['                                    10', 'Sean Williams', 'ZIM', '238'], ['                                    2', 'Rohit Sharma', 'IND', '855'], ['                                    3', 'Babar Azam', 'PAK', '837'], ['                                    4', 'Ross Taylor', 'NZ', '818'], ['                                    5', 'Francois du Plessis', 'SA', '790'], ['                                    6', 'Kane Williamson', 'NZ', '765'], ['                                    7', 'Aaron Finch', 'AUS', '762'], ['                                    8', 'David Warner', 'AUS', '759'], ['                                    9', 'Quinton de Kock', 'SA', '755'], ['                                    10', 'Jonny Bairstow', 'ENG', '754'], ['                                    2', 'Jasprit Bumrah', 'IND', '719'], ['                                    3', 'Mujeeb Ur Rahman', 'AFG', '701'], ['                                    4', 'Chris Woakes', 'ENG', '675'], ['                                    5', 'Kagiso Rabada', 'SA', '665'], ['                                    6', 'Pat Cummins', 'AUS', '659'], ['                                    7', 'Josh Hazlewood', 'AUS', '654'], ['                                    8', 'Mohammad Amir', 'PAK', '647'], ['                                    9', 'Matt Henry', 'NZ', '641'], ['                                    10', 'Jofra Archer', 'ENG', '637'], ['                                    2', 'Mohammad Nabi', 'AFG', '301'], ['                                    3', 'Chris Woakes', 'ENG', '281'], ['                                    4', 'Ben Stokes', 'ENG', '276'], ['                                    5', 'Imad Wasim', 'PAK', '271'], ['                                    6', 'Colin de Grandhomme', 'NZ', '265'], ['                                    7', 'Rashid Khan', 'AFG', '253'], ['                                    8', 'Mitchell Santner', 'NZ', '251'], ['                                    9', 'Ravindra Jadeja', 'IND', '246'], ['                                    10', 'Sean Williams', 'ZIM', '238']]\n"
     ]
    }
   ],
   "source": [
    "y = soup.find_all(\"tr\", {\"class\": \"table-body\"})\n",
    "\n",
    "a = [str(i.text).split(\"\\n\") for i in y]\n",
    "for i in a:\n",
    "    while('This player has moved up in the rankings since the previous rankings update' in i) : \n",
    "        i.remove('This player has moved up in the rankings since the previous rankings update') \n",
    "        \n",
    "    while('' in i) :\n",
    "        i.remove('')\n",
    "            \n",
    "    while('        ' in i) :\n",
    "        i.remove('        ')\n",
    "        \n",
    "print(a)\n"
   ]
  },
  {
   "cell_type": "code",
   "execution_count": 90,
   "metadata": {},
   "outputs": [
    {
     "name": "stdout",
     "output_type": "stream",
     "text": [
      "['Virat Kohli']\n",
      "['IND']\n",
      "['871']\n"
     ]
    }
   ],
   "source": [
    "#Top 10 ODI Batsmen in men \n",
    "x = soup.find_all(\"div\", {\"class\": [\"rankings-block__container\",\"rankings-block__banner--player-info\",\"rankings-block__banner--rating\"]})\n",
    "players = [[str(i.text).strip(\"\\n\").split(\"\\n\\n\\n\") for i in x][1:3][0][0]]\n",
    "team = [[str(i.text).strip(\"\\n\").split(\"\\n\\n\\n\") for i in x][1:3][0][1]]\n",
    "ratings = [str(i.text).strip(\"\\n\").split(\"\\n\\n\\n\") for i in x][1:3][1]\n",
    "print(players)\n",
    "print(team)\n",
    "print(ratings)"
   ]
  },
  {
   "cell_type": "code",
   "execution_count": 91,
   "metadata": {
    "scrolled": true
   },
   "outputs": [
    {
     "name": "stdout",
     "output_type": "stream",
     "text": [
      "['Virat Kohli', 'Rohit Sharma', 'Babar Azam', 'Ross Taylor', 'Francois du Plessis', 'Kane Williamson', 'Aaron Finch', 'David Warner', 'Quinton de Kock', 'Jonny Bairstow']\n",
      "['IND', 'IND', 'PAK', 'NZ', 'SA', 'NZ', 'AUS', 'AUS', 'SA', 'ENG']\n",
      "['871', '855', '837', '818', '790', '765', '762', '759', '755', '754']\n"
     ]
    }
   ],
   "source": [
    "#Top 10 ODI Batsmen in men \n",
    "players1 = [i[:][1] for i in a][:9]  \n",
    "team1 = [i[:][2] for i in a][:9] \n",
    "ratings1 = [i[:][3] for i in a][:9] \n",
    "\n",
    "players.extend(players1)\n",
    "team.extend(team1)\n",
    "ratings.extend(ratings1)  \n",
    "\n",
    "\n",
    "print(players)\n",
    "print(team)\n",
    "print(ratings)"
   ]
  },
  {
   "cell_type": "code",
   "execution_count": 92,
   "metadata": {},
   "outputs": [
    {
     "name": "stdout",
     "output_type": "stream",
     "text": [
      "['Trent Boult']\n",
      "['NZ']\n",
      "['722']\n"
     ]
    }
   ],
   "source": [
    "#Top 10 ODI bowlers mens\n",
    "x = soup.find_all(\"div\", {\"class\": [\"rankings-block__container\",\"rankings-block__banner--player-info\",\"rankings-block__banner--rating\"]})\n",
    "players4 = [[str(i.text).strip(\"\\n\").split(\"\\n\\n\\n\") for i in x][4:6][0][0]]\n",
    "team4 = [[str(i.text).strip(\"\\n\").split(\"\\n\\n\\n\") for i in x][4:6][0][1]]\n",
    "ratings4 = [str(i.text).strip(\"\\n\").split(\"\\n\\n\\n\") for i in x][4:6][1]\n",
    "print(players4)\n",
    "print(team4)\n",
    "print(ratings4)"
   ]
  },
  {
   "cell_type": "code",
   "execution_count": 93,
   "metadata": {},
   "outputs": [
    {
     "name": "stdout",
     "output_type": "stream",
     "text": [
      "['Trent Boult', 'Jasprit Bumrah', 'Mujeeb Ur Rahman', 'Chris Woakes', 'Kagiso Rabada', 'Pat Cummins', 'Josh Hazlewood', 'Mohammad Amir', 'Matt Henry', 'Jofra Archer']\n",
      "['NZ', 'IND', 'AFG', 'ENG', 'SA', 'AUS', 'AUS', 'PAK', 'NZ', 'ENG']\n",
      "['722', '719', '701', '675', '665', '659', '654', '647', '641', '637']\n"
     ]
    }
   ],
   "source": [
    "#Top 10 ODI Bowler in men \n",
    "players5 = [i[:][1] for i in a][9:18]  \n",
    "team5 = [i[:][2] for i in a][9:18] \n",
    "ratings5 = [i[:][3] for i in a][9:18] \n",
    "\n",
    "players4.extend(players5)\n",
    "team4.extend(team5)\n",
    "ratings4.extend(ratings5)  \n",
    "\n",
    "\n",
    "print(players4)\n",
    "print(team4)\n",
    "print(ratings4)"
   ]
  },
  {
   "cell_type": "code",
   "execution_count": 94,
   "metadata": {},
   "outputs": [
    {
     "name": "stdout",
     "output_type": "stream",
     "text": [
      "CSV creation done!!\n"
     ]
    }
   ],
   "source": [
    "import csv\n",
    "row = ['Players', 'Teams', 'Ratings']\n",
    "file_object = open('mens_odi_top_10_Batsmen_csv.csv', 'a', encoding='utf-8', newline=\"\")\n",
    "writer = csv.DictWriter(file_object, fieldnames=row)\n",
    "if file_object.tell() == 0:\n",
    "    writer.writeheader()\n",
    "for x, i in enumerate(players):\n",
    "    writer.writerow({'Players': i, 'Teams': team[x], 'Ratings': ratings[x]})\n",
    "file_object.close()\n",
    "print(\"CSV creation done!!\")"
   ]
  },
  {
   "cell_type": "code",
   "execution_count": 95,
   "metadata": {},
   "outputs": [
    {
     "name": "stdout",
     "output_type": "stream",
     "text": [
      "CSV creation done!!\n"
     ]
    }
   ],
   "source": [
    "import csv\n",
    "row = ['Players', 'Teams', 'Ratings']\n",
    "file_object = open('mens_odi_top_10_Bowlers_csv.csv', 'a', encoding='utf-8', newline=\"\")\n",
    "writer = csv.DictWriter(file_object, fieldnames=row)\n",
    "if file_object.tell() == 0:\n",
    "    writer.writeheader()\n",
    "for x, i in enumerate(players4):\n",
    "    writer.writerow({'Players': i, 'Teams': team4[x], 'Ratings': ratings4[x]})\n",
    "file_object.close()\n",
    "print(\"CSV creation done!!\")"
   ]
  },
  {
   "cell_type": "code",
   "execution_count": null,
   "metadata": {},
   "outputs": [],
   "source": []
  }
 ],
 "metadata": {
  "kernelspec": {
   "display_name": "Python 3",
   "language": "python",
   "name": "python3"
  },
  "language_info": {
   "codemirror_mode": {
    "name": "ipython",
    "version": 3
   },
   "file_extension": ".py",
   "mimetype": "text/x-python",
   "name": "python",
   "nbconvert_exporter": "python",
   "pygments_lexer": "ipython3",
   "version": "3.7.6"
  }
 },
 "nbformat": 4,
 "nbformat_minor": 4
}
