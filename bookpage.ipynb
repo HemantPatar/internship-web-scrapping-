{
 "cells": [
  {
   "cell_type": "code",
   "execution_count": 2,
   "metadata": {},
   "outputs": [],
   "source": [
    "from bs4 import BeautifulSoup\n",
    "import requests"
   ]
  },
  {
   "cell_type": "code",
   "execution_count": 7,
   "metadata": {},
   "outputs": [],
   "source": [
    "page = requests.get(\"https://bookpage.com/reviews\") "
   ]
  },
  {
   "cell_type": "code",
   "execution_count": 8,
   "metadata": {},
   "outputs": [],
   "source": [
    "soup = BeautifulSoup(page.text,'html.parser')"
   ]
  },
  {
   "cell_type": "code",
   "execution_count": 36,
   "metadata": {},
   "outputs": [
    {
     "name": "stdout",
     "output_type": "stream",
     "text": [
      "['Mediocre', 'The New Long Life', 'The Chicken Sisters', 'The Pearl', \"I'm Staying Here\", 'All The Young Men', 'Shed No Tears', 'Ten Things I Hate About the Duke', 'Fool Me Twice', 'The Wicked Hour']\n",
      "['Ijeoma Oluo', 'Andrew J. Scott, Lynda Gratton', 'KJ Dell’Antonia', 'Tiffany Reisz', 'Marco Balzano, Jill Foulston', 'Ruth Coker Burks', 'Caz Frear', 'Loretta Chase', 'Jeff Lindsay', 'Alice Blanchard']\n",
      "['Nonfiction/Social Science', 'Nonfiction/Self-Help/Aging', 'Fiction/Family Drama', 'Romance/Erotic Romance/Contemporary Romance', 'Fiction/Historical Fiction', 'Nonfiction/Memoir/LGBTQ', 'Mystery & Suspense/Mystery', 'Romance/Historical Romance', 'Mystery & Suspense/Suspense', 'Mystery & Suspense/Mystery']\n",
      "['Ijeoma Oluo, author of the bestselling book So You Want to Talk About Race, offers a historical and sociological view of the toxic white male identity in her new book.', 'London Business School economist Andrew J. Scott and his colleague, psychologist Lynda Gratton, offer a lively, thought-provoking survey of a world in which life and work will be fundamentally altered by increasing longevity and rapidly changing technology.', 'KJ Dell’Antonia’s The Chicken Sisters opens when Amanda Pogociello applies to “Food Wars,” a show that features culinary rivalries. As a practical woman, she has little hope that she’ll be chosen, but her story is compelling: In the late 19th century, two sisters...', 'It’s said revenge is a dish best served cold, but what if it could be served hot? Really hot?', 'Told through the eyes of Trina, a broken yet resilient mother writing to her missing daughter, I’m Staying Here unfolds the little-known story of the town of Curon in Italy’s South Tyrol province, sandwiched between Austria and Switzerland, where Nazism and Mussolini’s fascism...', 'The history of HIV/AIDS in the U.S. is often told from the perspectives of white, openly gay men who lived in major cities. But that’s not even close to the whole story. Ruth Coker Burks’ All the Young Men tells of the HIV-positive men who lived and died in the deeply conservative...', 'It’s possible to read this book without having read the rest of the series, but you’ll just end up wanting to start from the beginning because these characters are a pleasure to discover; even incidental roles are fleshed out enough to feel real.', 'Loretta Chase continues to prove her reputation as a queen of Regency romances with the second title in her Difficult Dukes series, Ten Things I Hate About the Duke.', 'Riley Wolfe excels at what he does: elaborate, improbable, dangerous, lucrative art heists. He knows he’s the best, and he gets a substantial thrill out of accomplishing the seemingly impossible with flair and rough justice.', \"The perfect read for winter's extra-dark nights, The Wicked Hour takes readers back to Salem-inspired town of Burning Lake, New York,\"]\n"
     ]
    }
   ],
   "source": [
    "x = soup.find_all(\"div\", {\"class\": \"flex-article-content\"})\n",
    "title = [str(i.text).strip(\"\\n\").split(\"\\n\\n\\n\")[:][0].replace(\" ★ \",\"\") for i in x]\n",
    "author = [str(i.text).strip(\"\\n\").split(\"\\n\\n\\n\")[:][1] for i in x]\n",
    "genre = [str(i.text).strip(\"\\n\").split(\"\\n\\n\\n\")[:][2].replace(\"\\n / \\n\",\"/\") for i in x]\n",
    "reviews = [str(i.text).strip(\"\\n\").split(\"\\n\\n\\n\")[:][3] for i in x]\n",
    "print(title)\n",
    "print(author)\n",
    "print(genre)\n",
    "print(reviews)"
   ]
  },
  {
   "cell_type": "code",
   "execution_count": 49,
   "metadata": {},
   "outputs": [
    {
     "name": "stdout",
     "output_type": "stream",
     "text": [
      "CSV creation done!!\n"
     ]
    }
   ],
   "source": [
    "import csv\n",
    "row = ['Books', 'Author', 'Genre','review']\n",
    "file_object = open('books_csv.csv', 'a', encoding='utf-8', newline=\"\")\n",
    "writer = csv.DictWriter(file_object, fieldnames=row)\n",
    "if file_object.tell() == 0:\n",
    "    writer.writeheader()\n",
    "for x, i in enumerate(title[:5]):\n",
    "    new_a = author[x].replace(\"’\", \"'\").replace(\"“\", '\"').replace(\"”\", '\"')\n",
    "    new_g = genre[x].replace(\"’\", \"'\").replace(\"“\", '\"').replace(\"”\", '\"')\n",
    "    new_r = reviews[x].replace(\"’\", \"'\").replace(\"“\", '\"').replace(\"”\", '\"')\n",
    "    writer.writerow({'Books': i, 'Author': new_a, 'Genre': new_g, 'review': new_r})\n",
    "file_object.close()\n",
    "print(\"CSV creation done!!\")"
   ]
  },
  {
   "cell_type": "code",
   "execution_count": null,
   "metadata": {},
   "outputs": [],
   "source": []
  }
 ],
 "metadata": {
  "kernelspec": {
   "display_name": "Python 3",
   "language": "python",
   "name": "python3"
  },
  "language_info": {
   "codemirror_mode": {
    "name": "ipython",
    "version": 3
   },
   "file_extension": ".py",
   "mimetype": "text/x-python",
   "name": "python",
   "nbconvert_exporter": "python",
   "pygments_lexer": "ipython3",
   "version": "3.7.6"
  }
 },
 "nbformat": 4,
 "nbformat_minor": 4
}
