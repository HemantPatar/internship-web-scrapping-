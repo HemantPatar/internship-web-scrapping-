{
 "cells": [
  {
   "cell_type": "code",
   "execution_count": 3,
   "metadata": {},
   "outputs": [],
   "source": [
    "from bs4 import BeautifulSoup\n",
    "import requests"
   ]
  },
  {
   "cell_type": "code",
   "execution_count": 4,
   "metadata": {},
   "outputs": [],
   "source": [
    "page = requests.get(\"https://www.imdb.com/list/ls091520106/\")"
   ]
  },
  {
   "cell_type": "code",
   "execution_count": 5,
   "metadata": {},
   "outputs": [],
   "source": [
    "soup=BeautifulSoup(page.text,'html.parser')"
   ]
  },
  {
   "cell_type": "code",
   "execution_count": 89,
   "metadata": {
    "collapsed": true
   },
   "outputs": [
    {
     "name": "stdout",
     "output_type": "stream",
     "text": [
      "['The Shawshank Redemption', 'The Godfather', 'The Godfather: Part II', 'The Dark Knight', '12 Angry Men', \"Schindler's List\", 'The Lord of the Rings: The Return of the King', 'Pulp Fiction', 'Il buono, il brutto, il cattivo', 'Fight Club', 'Joker', 'The Lord of the Rings: The Fellowship of the Ring', 'Forrest Gump', 'Inception', 'Star Wars: Episode V - The Empire Strikes Back', 'The Lord of the Rings: The Two Towers', 'The Matrix', \"One Flew Over the Cuckoo's Nest\", 'Goodfellas', 'Shichinin no samurai', 'Se7en', 'Cidade de Deus', 'La vita è bella', 'The Silence of the Lambs', 'Star Wars', \"It's a Wonderful Life\", 'Saving Private Ryan', 'Sen to Chihiro no kamikakushi', 'The Green Mile', 'Léon', 'Seppuku', 'Interstellar', 'The Usual Suspects', 'The Lion King', 'American History X', 'Back to the Future', 'The Pianist', 'Modern Times', 'Terminator 2: Judgment Day', 'The Intouchables', 'Psycho', 'Gladiator', 'City Lights', 'The Departed', 'Whiplash', 'Once Upon a Time in the West', 'The Prestige', 'Avengers: Endgame', 'Casablanca', 'Hotaru no haka', 'Rear Window', 'Nuovo Cinema Paradiso', 'Alien', 'Raiders of the Lost Ark', 'Memento', 'Apocalypse Now', 'The Great Dictator', 'The Lives of Others', 'Avengers: Infinity War', 'Django Unchained', 'Spider-Man: Into the Spider-Verse', 'The Shining', 'Paths of Glory', 'WALL·E', 'Sunset Blvd.', 'Dr. Strangelove or: How I Learned to Stop Worrying and Love the Bomb', 'Mononoke-hime', 'Oldeuboi', 'Witness for the Prosecution', 'The Dark Knight Rises', 'Once Upon a Time in America', 'Gisaengchung', 'Aliens', 'American Beauty', 'Coco I', 'Kimi no na wa.', 'Braveheart', 'Das Boot', '3 Idiots', 'Taare Zameen Par', 'Star Wars: Episode VI - Return of the Jedi', 'Toy Story', 'Reservoir Dogs', 'Amadeus', 'Dangal', 'Good Will Hunting', 'Inglourious Basterds', 'M - Eine Stadt sucht einen Mörder', 'Requiem for a Dream', '2001: A Space Odyssey', 'Vertigo', 'Eternal Sunshine of the Spotless Mind', 'Citizen Kane', 'Full Metal Jacket', 'Jagten', 'North by Northwest', 'A Clockwork Orange', 'Snatch', 'Amélie', 'The Kid']\n",
      "[1994, 1972, 1974, 2008, 1957, 1993, 2003, 1994, 1966, 1999, 2019, 2001, 1994, 2010, 1980, 2002, 1999, 1975, 1990, 1954, 1995, 2002, 1997, 1991, 1977, 1946, 1998, 2001, 1999, 1994, 1962, 2014, 1995, 1994, 1998, 1985, 2002, 1936, 1991, 2011, 1960, 2000, 1931, 2006, 2014, 1968, 2006, 2019, 1942, 1988, 1954, 1988, 1979, 1981, 2000, 1979, 1940, 2006, 2018, 2012, 2018, 1980, 1957, 2008, 1950, 1964, 1997, 2003, 1957, 2012, 1984, 2019, 1986, 1999, 2017, 2016, 1995, 1981, 2009, 2007, 1983, 1995, 1992, 1984, 2016, 1997, 2009, 1931, 2000, 1968, 1958, 2004, 1941, 1987, 2012, 1959, 1971, 2000, 2001, 1921]\n"
     ]
    }
   ],
   "source": [
    "x = soup.find_all(\"h3\",{\"class\": \"lister-item-header\"})\n",
    "movies_title = [str(i.text).split(\"\\n\")[2:-1][0] for i in x]\n",
    "movies_year = [str(i.text).split(\"\\n\")[2:-1][1].replace(\"(\", \"\").replace(\")\", \"\") for i in x]\n",
    "final_year = []\n",
    "for x, i in enumerate(movies_title):\n",
    "    try:\n",
    "        if movies_year[x].split():\n",
    "            final_year.append(int(movies_year[x].split()[1]))\n",
    "            movies_title[x] = movies_title[x]+\" \"+movies_year[x].split()[0]\n",
    "            # print(i, movies_year[x].split()[1])\n",
    "    except:\n",
    "        final_year.append(int(movies_year[x]))\n",
    "        # print(i, movies_year[x])\n",
    "print(movies_title)\n",
    "print(final_year)"
   ]
  },
  {
   "cell_type": "code",
   "execution_count": 65,
   "metadata": {
    "collapsed": true
   },
   "outputs": [
    {
     "name": "stdout",
     "output_type": "stream",
     "text": [
      "[9.3, 9.2, 9.0, 9.0, 9.0, 8.9, 8.9, 8.9, 8.8, 8.8, 8.5, 8.8, 8.8, 8.8, 8.7, 8.7, 8.7, 8.7, 8.7, 8.6, 8.6, 8.6, 8.6, 8.6, 8.6, 8.6, 8.6, 8.6, 8.6, 8.5, 8.6, 8.6, 8.5, 8.5, 8.5, 8.5, 8.5, 8.5, 8.5, 8.5, 8.5, 8.5, 8.5, 8.5, 8.5, 8.5, 8.5, 8.4, 8.5, 8.5, 8.4, 8.5, 8.4, 8.4, 8.4, 8.4, 8.4, 8.4, 8.4, 8.4, 8.4, 8.4, 8.4, 8.4, 8.4, 8.4, 8.4, 8.4, 8.4, 8.4, 8.4, 8.6, 8.3, 8.3, 8.4, 8.4, 8.3, 8.3, 8.4, 8.4, 8.3, 8.3, 8.3, 8.3, 8.4, 8.3, 8.3, 8.3, 8.3, 8.3, 8.3, 8.3, 8.3, 8.3, 8.3, 8.3, 8.3, 8.3, 8.3, 8.3]\n"
     ]
    }
   ],
   "source": [
    "y = soup.find_all(\"div\", {\"class\": \"ipl-rating-widget\"})\n",
    "rating = [float(i.find(\"span\", {\"class\": \"ipl-rating-star__rating\"}).text) for i in y]\n",
    "print(rating)"
   ]
  },
  {
   "cell_type": "code",
   "execution_count": 93,
   "metadata": {},
   "outputs": [
    {
     "name": "stdout",
     "output_type": "stream",
     "text": [
      "CSV creation done!!\n"
     ]
    }
   ],
   "source": [
    "import csv\n",
    "row = ['Movie(s)', 'Relaese Date', 'Rating']\n",
    "file_object = open('movies_csv.csv', 'a', encoding='utf-8', newline=\"\")\n",
    "writer = csv.DictWriter(file_object, fieldnames=row)\n",
    "if file_object.tell() == 0:\n",
    "    writer.writeheader()\n",
    "for x, i in enumerate(movies_title):\n",
    "    # print(i, final_year[x], rating[x])\n",
    "    writer.writerow({'Movie(s)': i, 'Relaese Date': final_year[x], 'Rating': rating[x]})\n",
    "file_object.close()\n",
    "print(\"CSV creation done!!\")"
   ]
  }
 ],
 "metadata": {
  "kernelspec": {
   "display_name": "Python 3",
   "language": "python",
   "name": "python3"
  },
  "language_info": {
   "codemirror_mode": {
    "name": "ipython",
    "version": 3
   },
   "file_extension": ".py",
   "mimetype": "text/x-python",
   "name": "python",
   "nbconvert_exporter": "python",
   "pygments_lexer": "ipython3",
   "version": "3.7.6"
  }
 },
 "nbformat": 4,
 "nbformat_minor": 4
}
